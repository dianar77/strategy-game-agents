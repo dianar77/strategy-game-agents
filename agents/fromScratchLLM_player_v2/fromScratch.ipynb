{
 "cells": [
  {
   "cell_type": "code",
   "execution_count": null,
   "id": "9e2feecd",
   "metadata": {},
   "outputs": [
    {
     "data": {
      "image/png": "[encoded data removed]",
      "text/plain": [
       "<IPython.core.display.Image object>"
      ]
     },
     "metadata": {},
     "output_type": "display_data"
    }
   ],
   "source": [
    "\n",
    "from agents.fromScratchLLM_player_v2.creator_agent import CreatorAgent\n",
    "from catanatron import Color\n",
    "\n",
    "langPlayer = CreatorAgent()\n",
    "langPlayer.print_react_graph()\n",
    "\n",
    "\n"
   ]
  },
  {
   "cell_type": "code",
   "execution_count": null,
   "id": "1b14d204",
   "metadata": {},
   "outputs": [],
   "source": [
    "FOO_TARGET_FILENAME = \"foo_player.py\"\n",
    "\n",
    "prompt = (\n",
    "            f\"\"\"\n",
    "            You are in charge of creating the code for a Catan Player in {FOO_TARGET_FILENAME}. \n",
    "            \n",
    "            You Have the Following Tools at Your Disposal:\n",
    "            - list_local_files: List all files in the current directory.\n",
    "            - read_local_file: Read the content of a file in the current directory.\n",
    "            - read_foo: Read the content of {FOO_TARGET_FILENAME}.\n",
    "            - write_foo: Write the content of {FOO_TARGET_FILENAME}. (Make sure to keep imports) Note: print() commands will be visible in view_last_game_results\n",
    "            - run_gamefoo: Test the content of {FOO_TARGET_FILENAME} in a game. Returns the output (last 10000 characters stdout and stderr of the game)\n",
    "            - run_testfoo: Identical to run_gamefoo, but sets a 30 second timeout. Use this to test the efficiency of your llm prompts\n",
    "            - web_search_tool_call: Perform a web search using the Tavily API.\n",
    "            - view_last_game_llm_query: View the LLM query from the last game to see performance. \n",
    "            - view_last_game_results: View the game results from the last game. (Includes stdout and stderr from the game)\n",
    "            \n",
    "            YOUR GOAL: Create a Catan Player That Will play run_testfoo and Win Catan against the other players\n",
    "            It must Incoorporate the LLM() class and the .query_llm() method\n",
    "\n",
    "            \"\"\"\n",
    "        )\n",
    "\n",
    "langPlayer = CreatorAgent()\n",
    "initial_input = {\"messages\": SystemMessage(content=cur_prompt)}\n",
    "\n",
    "react_graph = langPlayer.create_langchain_react_graph()\n",
    "for event in react_graph.stream(initial_input, langPlayer.memory_config, stream_mode=\"values\"):\n",
    "    msg = event['messages'][-1]\n",
    "    msg.pretty_print()\n",
    "    final_msg = msg.content"
   ]
  },
  {
   "cell_type": "code",
   "execution_count": null,
   "id": "a6cd6a02",
   "metadata": {},
   "outputs": [
    {
     "data": {
      "text/plain": [
       "'Hello! How can I assist you today? 😊'"
      ]
     },
     "execution_count": 5,
     "metadata": {},
     "output_type": "execute_result"
    }
   ],
   "source": [
    "from agents.fromScratchLLM_player_v2.llm_tools import LLM\n",
    "\n",
    "llm = LLM()\n",
    "llm.query_llm(\"Hey\")"
   ]
  }
 ],
 "metadata": {
  "kernelspec": {
   "display_name": "catanatron",
   "language": "python",
   "name": "python3"
  },
  "language_info": {
   "codemirror_mode": {
    "name": "ipython",
    "version": 3
   },
   "file_extension": ".py",
   "mimetype": "text/x-python",
   "name": "python",
   "nbconvert_exporter": "python",
   "pygments_lexer": "ipython3",
   "version": "3.11.11"
  }
 },
 "nbformat": 4,
 "nbformat_minor": 5
}
