{
 "cells": [
  {
   "cell_type": "code",
   "execution_count": 3,
   "id": "9e2feecd",
   "metadata": {},
   "outputs": [
    {
     "ename": "UnboundLocalError",
     "evalue": "cannot access local variable 'runs_dir' where it is not associated with a value",
     "output_type": "error",
     "traceback": [
      "\u001b[31m---------------------------------------------------------------------------\u001b[39m",
      "\u001b[31mUnboundLocalError\u001b[39m                         Traceback (most recent call last)",
      "\u001b[36mCell\u001b[39m\u001b[36m \u001b[39m\u001b[32mIn[3]\u001b[39m\u001b[32m, line 4\u001b[39m\n\u001b[32m      1\u001b[39m \u001b[38;5;28;01mfrom\u001b[39;00m\u001b[38;5;250m \u001b[39m\u001b[34;01magents\u001b[39;00m\u001b[34;01m.\u001b[39;00m\u001b[34;01mpromptRefiningLLM_player\u001b[39;00m\u001b[34;01m.\u001b[39;00m\u001b[34;01mcreator_agent\u001b[39;00m\u001b[38;5;250m \u001b[39m\u001b[38;5;28;01mimport\u001b[39;00m CreatorAgent\n\u001b[32m      2\u001b[39m \u001b[38;5;28;01mfrom\u001b[39;00m\u001b[38;5;250m \u001b[39m\u001b[34;01mcatanatron\u001b[39;00m\u001b[38;5;250m \u001b[39m\u001b[38;5;28;01mimport\u001b[39;00m Color\n\u001b[32m----> \u001b[39m\u001b[32m4\u001b[39m langPlayer = \u001b[43mCreatorAgent\u001b[49m\u001b[43m(\u001b[49m\u001b[43m)\u001b[49m\n\u001b[32m      5\u001b[39m langPlayer.print_react_graph()\n",
      "\u001b[36mFile \u001b[39m\u001b[32m~/Develop/NLP-Group/strategy-game-agents/agents/promptRefiningLLM_player/creator_agent.py:94\u001b[39m, in \u001b[36mCreatorAgent.__init__\u001b[39m\u001b[34m(self, opponent)\u001b[39m\n\u001b[32m     91\u001b[39m     os.makedirs(CreatorAgent.run_dir, exist_ok=\u001b[38;5;28;01mTrue\u001b[39;00m)\n\u001b[32m     93\u001b[39m \u001b[38;5;66;03m# Create a marker file to allow the player to detect the current run directory\u001b[39;00m\n\u001b[32m---> \u001b[39m\u001b[32m94\u001b[39m \u001b[38;5;28;01mwith\u001b[39;00m \u001b[38;5;28mopen\u001b[39m(os.path.join(\u001b[43mruns_dir\u001b[49m, \u001b[33m\"\u001b[39m\u001b[33mcurrent_run.txt\u001b[39m\u001b[33m\"\u001b[39m), \u001b[33m\"\u001b[39m\u001b[33mw\u001b[39m\u001b[33m\"\u001b[39m) \u001b[38;5;28;01mas\u001b[39;00m f:\n\u001b[32m     95\u001b[39m     f.write(CreatorAgent.run_dir)\n\u001b[32m     97\u001b[39m \u001b[38;5;66;03m# Copy the base prompt to new prompt at the start of each run\u001b[39;00m\n",
      "\u001b[31mUnboundLocalError\u001b[39m: cannot access local variable 'runs_dir' where it is not associated with a value"
     ]
    }
   ],
   "source": [
    "\n",
    "from agents.promptRefiningLLM_player.creator_agent import CreatorAgent\n",
    "from catanatron import Color\n",
    "\n",
    "langPlayer = CreatorAgent()\n",
    "langPlayer.print_react_graph()"
   ]
  },
  {
   "cell_type": "code",
   "execution_count": 4,
   "id": "a6cd6a02",
   "metadata": {},
   "outputs": [
    {
     "data": {
      "text/plain": [
       "'Hello! How can I assist you today? 😊'"
      ]
     },
     "execution_count": 4,
     "metadata": {},
     "output_type": "execute_result"
    }
   ],
   "source": [
    "from agents.fromScratchLLM_player.llm_tools import LLM\n",
    "\n",
    "llm = LLM()\n",
    "llm.query_llm(\"Hello\").content"
   ]
  }
 ],
 "metadata": {
  "kernelspec": {
   "display_name": "catan",
   "language": "python",
   "name": "python3"
  },
  "language_info": {
   "codemirror_mode": {
    "name": "ipython",
    "version": 3
   },
   "file_extension": ".py",
   "mimetype": "text/x-python",
   "name": "python",
   "nbconvert_exporter": "python",
   "pygments_lexer": "ipython3",
   "version": "3.11.11"
  }
 },
 "nbformat": 4,
 "nbformat_minor": 5
}
