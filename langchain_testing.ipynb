{
 "cells": [
  {
   "cell_type": "code",
   "execution_count": null,
   "id": "78145cc9",
   "metadata": {},
   "outputs": [
    {
     "name": "stdout",
     "output_type": "stream",
     "text": [
      "J'adore la programmation.\n"
     ]
    }
   ],
   "source": [
    "import os\n",
    "from langchain_openai import AzureChatOpenAI\n",
    "\n",
    "api_key = os.environ[\"AZURE_OPENAI_KEY\"]\n",
    "endpoint = os.environ[\"AZURE_OPENAI_ENDPOINT\"]\n",
    "\"https://gpt-amayuelas.openai.azure.com/\"\n",
    "\n",
    "llm = AzureChatOpenAI(\n",
    "    api_key=api_key,\n",
    "    azure_endpoint=endpoint,\n",
    "    azure_deployment=\"gpt-4o\",  # or your deployment\n",
    "    api_version=\"2024-12-01-preview\",  # or your api version\n",
    "    temperature=0,\n",
    "    max_tokens=None,\n",
    "    timeout=None,\n",
    "    max_retries=2,\n",
    "    # other params...\n",
    ")\n",
    "\n",
    "messages = [\n",
    "    (\n",
    "        \"system\",\n",
    "        \"You are a helpful assistant that translates English to French. Translate the user sentence.\",\n",
    "    ),\n",
    "    (\"human\", \"I love programming.\"),\n",
    "]\n",
    "ai_msg = llm.invoke(messages)\n",
    "ai_msg\n",
    "\n",
    "print(ai_msg.content)"
   ]
  },
  {
   "cell_type": "code",
   "execution_count": 10,
   "id": "9c827530",
   "metadata": {},
   "outputs": [
    {
     "data": {
      "text/plain": [
       "AIMessage(content='Hello, world! 🌍 How can I assist you today?', additional_kwargs={'refusal': None}, response_metadata={'token_usage': {'completion_tokens': 14, 'prompt_tokens': 11, 'total_tokens': 25, 'completion_tokens_details': {'accepted_prediction_tokens': 0, 'audio_tokens': 0, 'reasoning_tokens': 0, 'rejected_prediction_tokens': 0}, 'prompt_tokens_details': {'audio_tokens': 0, 'cached_tokens': 0}}, 'model_name': 'gpt-4o-2024-11-20', 'system_fingerprint': 'fp_ee1d74bde0', 'id': 'chatcmpl-BSAYi2U6ltzax5lB07Ppj3qqX8DTf', 'prompt_filter_results': [{'prompt_index': 0, 'content_filter_results': {'hate': {'filtered': False, 'severity': 'safe'}, 'jailbreak': {'filtered': False, 'detected': False}, 'self_harm': {'filtered': False, 'severity': 'safe'}, 'sexual': {'filtered': False, 'severity': 'safe'}, 'violence': {'filtered': False, 'severity': 'safe'}}}], 'finish_reason': 'stop', 'logprobs': None, 'content_filter_results': {'hate': {'filtered': False, 'severity': 'safe'}, 'protected_material_code': {'filtered': False, 'detected': False}, 'protected_material_text': {'filtered': False, 'detected': False}, 'self_harm': {'filtered': False, 'severity': 'safe'}, 'sexual': {'filtered': False, 'severity': 'safe'}, 'violence': {'filtered': False, 'severity': 'safe'}}}, id='run-997df737-033f-44e9-991b-86dd110ed7c2-0', usage_metadata={'input_tokens': 11, 'output_tokens': 14, 'total_tokens': 25, 'input_token_details': {'audio': 0, 'cache_read': 0}, 'output_token_details': {'audio': 0, 'reasoning': 0}})"
      ]
     },
     "execution_count": 10,
     "metadata": {},
     "output_type": "execute_result"
    }
   ],
   "source": [
    "from langchain_core.messages import HumanMessage\n",
    "\n",
    "# Create a message\n",
    "msg = HumanMessage(content=\"Hello world\", name=\"Lance\")\n",
    "\n",
    "# Message list\n",
    "messages = [msg]\n",
    "\n",
    "# Invoke the model with a list of messages \n",
    "llm.invoke(messages)"
   ]
  },
  {
   "cell_type": "markdown",
   "id": "632666d8",
   "metadata": {},
   "source": [
    "### Using Talivy RAG Example (Use for online search tool)"
   ]
  },
  {
   "cell_type": "code",
   "execution_count": 6,
   "id": "70c652f7",
   "metadata": {},
   "outputs": [
    {
     "data": {
      "text/plain": [
       "[{'title': 'How to Play CATAN - Asmodee UK',\n",
       "  'url': 'https://www.asmodee.co.uk/blogs/news/how-to-play-catan',\n",
       "  'content': 'The resource cards should be separated into their 5 different piles, face up next to the board. Development cards should be shuffled and placed face down by the board too, where they are accessible to players.\\n\\nPlaying the Game\\n\\n\\n\\nCATAN has three main aspects of gameplay: producing resources, trading resources, and using the resources to build. When a player takes their turn, they will move through each of these three actions. [...] Can you play CATAN with 2 people?\\n\\nYou can play CATAN\\xa0with two people if you have the core game. Simply place two sets of game pieces on the board to act as imaginary players. Instead of stealing cards when using the robber, this will provide resources.\\n\\nIs it better to go first or last in CATAN? [...] CATAN, otherwise known as Settlers of CATAN, is a popular board game that combines strategy, negotiation, and a dash of luck. More than 40 million copies of the game have been sold since 1995, yet it still remains as popular as ever. If you’re new to playing CATAN, or need a refresher of the rules, read on as we’ve created a blog focused on how to play.\\n\\nThe island of CATAN\\xa0lies before you - grab a friend, or three, and compete to expand your territory the furthest.\\n\\nThe Game Setup',\n",
       "  'score': 0.8898454},\n",
       " {'title': '[PDF] Game Rules Game Rules almanac - CATAN',\n",
       "  'url': 'https://www.catan.com/sites/default/files/2021-06/catan_base_rules_2020_200707.pdf',\n",
       "  'content': 'Klaus Teuber Game Rules Game Rules & Almanac Almanac 2 Dear Settlers, To make it as easy as possible for you to start playing Catan®, we use an award-winning rules system, which consists of 3 parts. First, if you do not know how to play Catan, please read the Game Overview on page 16 (the back cover). Next, read the Game Rules on pages 2-6 (red borders) and start to play the game. If you have questions during the game, consult the Catan Almanac on pages 6-15 (gold borders). [...] Sort the resource cards into 5 stacks and place them face up beside the board.\\nShuffle the development cards Y and place them face down beside the resource cards.\\nPlace the 2 special cards and the dice beside the board.\\nPlace the robber in the desert.\\nThe set-up phase has 2 rounds. Each player builds 1 road and 1 settlement per round.\\nRound One Each player rolls both dice. The player who rolls highest is the starting player and begins. [...] You begin the game with 2 settlements and 2 roads. Each settlement is worth 1 victory point. You therefore start the game with 2 victory points! The first player to acquire 10 victory points on their turn wins the game.\\nTo gain more victory points, you must build new roads and settlements and upgrade your settlements to cities. Each city is worth 2 victory points. To build or upgrade, you need to acquire resources.',\n",
       "  'score': 0.8449346},\n",
       " {'title': \"How to play Catan: board game's rules, setup and how to win ...\",\n",
       "  'url': 'https://www.dicebreaker.com/games/catan-1/how-to/how-to-play-catan-board-game',\n",
       "  'content': \"To play Catan with two players using its official two-player rules, you will need to use the original base game in combination with 20 trade tokens. The two-player scenario essentially simulates two additional neutral players, while the 20 tokens are used by the human players to take actions.\\n\\nTwo-player setup [...] Every player needs to make sure they keep track of their own settlements and whether or not they receive a resource on any given roll.\\n\\nCatan is a game of probability to a certain extent, as the resources that come up will be determined by the dice that get rolled. 7 is the most likely number to be rolled with two dice and is treated slightly differently, as it activates the Robber.\\n\\nHow does the robber work in Catan?\\n\\nIf you roll a 7 on your turn in Catan, you activate the robber. [...] Place two settlements and two roads on the board. If you're using the recommended beginner setup, follow the layout in the rulebook. The experienced player rules instead allow each player to take it in turns to place a settlement and one adjacent road, with the order of placing reversed (so the last player goes first) to place a second settlement and adjacent road.\",\n",
       "  'score': 0.84277284}]"
      ]
     },
     "execution_count": 6,
     "metadata": {},
     "output_type": "execute_result"
    }
   ],
   "source": [
    "import os, getpass\n",
    "\n",
    "def _set_env(var: str):\n",
    "    if not os.environ.get(var):\n",
    "        os.environ[var] = getpass.getpass(f\"{var}: \")\n",
    "_set_env(\"TAVILY_API_KEY\")\n",
    "from langchain_community.tools.tavily_search import TavilySearchResults\n",
    "tavily_search = TavilySearchResults(max_results=3)\n",
    "search_docs = tavily_search.invoke(\"How do you play catan?\")\n",
    "search_docs"
   ]
  },
  {
   "cell_type": "markdown",
   "id": "e367aaaf",
   "metadata": {},
   "source": [
    "## Tool Calling ReAct Agent with Memory"
   ]
  },
  {
   "cell_type": "code",
   "execution_count": 16,
   "id": "9ac74c6b",
   "metadata": {},
   "outputs": [
    {
     "name": "stdout",
     "output_type": "stream",
     "text": [
      "================================\u001b[1m Human Message \u001b[0m=================================\n",
      "\n",
      "Add 3 and 4.\n",
      "==================================\u001b[1m Ai Message \u001b[0m==================================\n",
      "Tool Calls:\n",
      "  add (call_UZxkuuvODjvK5D6Iwwq7ERHI)\n",
      " Call ID: call_UZxkuuvODjvK5D6Iwwq7ERHI\n",
      "  Args:\n",
      "    a: 3\n",
      "    b: 4\n",
      "=================================\u001b[1m Tool Message \u001b[0m=================================\n",
      "Name: add\n",
      "\n",
      "7\n",
      "==================================\u001b[1m Ai Message \u001b[0m==================================\n",
      "\n",
      "The sum of 3 and 4 is 7.\n",
      "================================\u001b[1m Human Message \u001b[0m=================================\n",
      "\n",
      "Add 3 and 4.\n",
      "==================================\u001b[1m Ai Message \u001b[0m==================================\n",
      "Tool Calls:\n",
      "  add (call_UZxkuuvODjvK5D6Iwwq7ERHI)\n",
      " Call ID: call_UZxkuuvODjvK5D6Iwwq7ERHI\n",
      "  Args:\n",
      "    a: 3\n",
      "    b: 4\n",
      "=================================\u001b[1m Tool Message \u001b[0m=================================\n",
      "Name: add\n",
      "\n",
      "7\n",
      "==================================\u001b[1m Ai Message \u001b[0m==================================\n",
      "\n",
      "The sum of 3 and 4 is 7.\n",
      "================================\u001b[1m Human Message \u001b[0m=================================\n",
      "\n",
      "There are a few things I want you to do. First, take the last output and add 2. Multiply the output by 2. Actually, before multiplying I want you to add the output to 1. Lastly, divide the output by 5\n",
      "==================================\u001b[1m Ai Message \u001b[0m==================================\n",
      "Tool Calls:\n",
      "  add (call_rA5H9fQRRZ0RqvZiHRMz9bIw)\n",
      " Call ID: call_rA5H9fQRRZ0RqvZiHRMz9bIw\n",
      "  Args:\n",
      "    a: 7\n",
      "    b: 2\n",
      "=================================\u001b[1m Tool Message \u001b[0m=================================\n",
      "Name: add\n",
      "\n",
      "9\n",
      "==================================\u001b[1m Ai Message \u001b[0m==================================\n",
      "Tool Calls:\n",
      "  add (call_OMczbAVXlZ56ZV1FKRx0K5Oi)\n",
      " Call ID: call_OMczbAVXlZ56ZV1FKRx0K5Oi\n",
      "  Args:\n",
      "    a: 9\n",
      "    b: 1\n",
      "=================================\u001b[1m Tool Message \u001b[0m=================================\n",
      "Name: add\n",
      "\n",
      "10\n",
      "==================================\u001b[1m Ai Message \u001b[0m==================================\n",
      "Tool Calls:\n",
      "  multiply (call_OVPvWxRVLNRlpt6aimSZNEFP)\n",
      " Call ID: call_OVPvWxRVLNRlpt6aimSZNEFP\n",
      "  Args:\n",
      "    a: 10\n",
      "    b: 2\n",
      "=================================\u001b[1m Tool Message \u001b[0m=================================\n",
      "Name: multiply\n",
      "\n",
      "20\n",
      "==================================\u001b[1m Ai Message \u001b[0m==================================\n",
      "Tool Calls:\n",
      "  divide (call_ekF1DP5MdKSOTdOd0L3OVIus)\n",
      " Call ID: call_ekF1DP5MdKSOTdOd0L3OVIus\n",
      "  Args:\n",
      "    a: 20\n",
      "    b: 5\n",
      "=================================\u001b[1m Tool Message \u001b[0m=================================\n",
      "Name: divide\n",
      "\n",
      "4.0\n",
      "==================================\u001b[1m Ai Message \u001b[0m==================================\n",
      "\n",
      "After performing all the operations, the final result is 4.0.\n"
     ]
    }
   ],
   "source": [
    "from langgraph.graph import StateGraph, START, END\n",
    "from langgraph.graph import MessagesState\n",
    "from langgraph.prebuilt import ToolNode\n",
    "from langgraph.prebuilt import tools_condition\n",
    "from langchain_core.messages import HumanMessage, SystemMessage\n",
    "from langgraph.checkpoint.memory import MemorySaver\n",
    "\n",
    "def multiply(a: int, b: int) -> int:\n",
    "    \"\"\"Multiply a and b.\n",
    "\n",
    "    Args:\n",
    "        a: first int\n",
    "        b: second int\n",
    "    \"\"\"\n",
    "    return a * b\n",
    "\n",
    "# This will be a tool\n",
    "def add(a: int, b: int) -> int:\n",
    "    \"\"\"Adds a and b.\n",
    "\n",
    "    Args:\n",
    "        a: first int\n",
    "        b: second int\n",
    "    \"\"\"\n",
    "    return a + b\n",
    "\n",
    "def divide(a: int, b: int) -> float:\n",
    "    \"\"\"Divide a and b.\n",
    "\n",
    "    Args:\n",
    "        a: first int\n",
    "        b: second int\n",
    "    \"\"\"\n",
    "    return a / b\n",
    "\n",
    "tools = [add, multiply, divide]\n",
    "llm_with_tools = llm.bind_tools(tools, parallel_tool_calls=False)\n",
    "\n",
    "\n",
    "# System message\n",
    "sys_msg = SystemMessage(content=\"You are a helpful assistant tasked with performing arithmetic on a set of inputs.\")\n",
    "\n",
    "# Node\n",
    "def assistant(state: MessagesState):\n",
    "   return {\"messages\": [llm_with_tools.invoke([sys_msg] + state[\"messages\"])]}\n",
    "\n",
    "# Graph\n",
    "builder = StateGraph(MessagesState)\n",
    "\n",
    "# Define nodes: these do the work\n",
    "builder.add_node(\"assistant\", assistant)\n",
    "builder.add_node(\"tools\", ToolNode(tools))\n",
    "\n",
    "# Define edges: these determine how the control flow moves\n",
    "builder.add_edge(START, \"assistant\")\n",
    "builder.add_conditional_edges(\n",
    "    \"assistant\",\n",
    "    # If the latest message (result) from assistant is a tool call -> tools_condition routes to tools\n",
    "    # If the latest message (result) from assistant is a not a tool call -> tools_condition routes to END\n",
    "    tools_condition,\n",
    ")\n",
    "builder.add_edge(\"tools\", \"assistant\")\n",
    "memory = MemorySaver()\n",
    "react_graph = builder.compile(checkpointer=memory)\n",
    "\n",
    "\n",
    "# Specify a thread\n",
    "config = {\"configurable\": {\"thread_id\": \"1\"}}\n",
    "\n",
    "\n",
    "# First LLM interaction\n",
    "messages = [HumanMessage(content=\"Add 3 and 4.\")]\n",
    "messages = react_graph.invoke({\"messages\": messages},config)\n",
    "for m in messages['messages']:\n",
    "    m.pretty_print()\n",
    "\n",
    "\n",
    "messages = [HumanMessage(content=\"There are a few things I want you to do. First, take the last output and add 2. Multiply the output by 2. Actually, before multiplying I want you to add the output to 1. Lastly, divide the output by 5\")]\n",
    "messages = react_graph.invoke({\"messages\": messages}, config)\n",
    "for m in messages['messages']:\n",
    "    m.pretty_print()"
   ]
  },
  {
   "cell_type": "markdown",
   "id": "68b8dcff",
   "metadata": {},
   "source": [
    "## Basic Catan Setup"
   ]
  },
  {
   "cell_type": "code",
   "execution_count": null,
   "id": "38809a31",
   "metadata": {},
   "outputs": [],
   "source": []
  }
 ],
 "metadata": {
  "kernelspec": {
   "display_name": "catan",
   "language": "python",
   "name": "python3"
  },
  "language_info": {
   "codemirror_mode": {
    "name": "ipython",
    "version": 3
   },
   "file_extension": ".py",
   "mimetype": "text/x-python",
   "name": "python",
   "nbconvert_exporter": "python",
   "pygments_lexer": "ipython3",
   "version": "3.11.11"
  }
 },
 "nbformat": 4,
 "nbformat_minor": 5
}
